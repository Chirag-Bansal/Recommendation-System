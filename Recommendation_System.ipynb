{
  "nbformat": 4,
  "nbformat_minor": 0,
  "metadata": {
    "colab": {
      "name": "Recommendation System.ipynb",
      "provenance": [],
      "collapsed_sections": []
    },
    "kernelspec": {
      "name": "python3",
      "display_name": "Python 3"
    },
    "language_info": {
      "name": "python"
    }
  },
  "cells": [
    {
      "cell_type": "code",
      "metadata": {
        "colab": {
          "base_uri": "https://localhost:8080/"
        },
        "id": "w-2AvO4LPok-",
        "outputId": "11ff818d-5df2-423c-8f1c-d8eba5e41ed6"
      },
      "source": [
        "from google.colab import drive\n",
        "drive.mount(\"/content/gdrive\")"
      ],
      "execution_count": 1,
      "outputs": [
        {
          "output_type": "stream",
          "name": "stdout",
          "text": [
            "Mounted at /content/gdrive\n"
          ]
        }
      ]
    },
    {
      "cell_type": "code",
      "metadata": {
        "id": "l3zZk-BxSkZd"
      },
      "source": [
        "import pandas as pd\n",
        "from collections import defaultdict\n",
        "import numpy as np"
      ],
      "execution_count": 2,
      "outputs": []
    },
    {
      "cell_type": "markdown",
      "metadata": {
        "id": "pW1N5VoCWT1p"
      },
      "source": [
        "## Loading dataset\n",
        "\n",
        "Converted the excel file to a pandas dataframe"
      ]
    },
    {
      "cell_type": "code",
      "metadata": {
        "id": "Xp1x6XP1S5GN"
      },
      "source": [
        "path = \"/content/gdrive/MyDrive/Recommender.xlsx\""
      ],
      "execution_count": 3,
      "outputs": []
    },
    {
      "cell_type": "code",
      "metadata": {
        "id": "Ap-s5SeuTW9t"
      },
      "source": [
        "df = pd.io.excel.read_excel(path)"
      ],
      "execution_count": 4,
      "outputs": []
    },
    {
      "cell_type": "code",
      "metadata": {
        "colab": {
          "base_uri": "https://localhost:8080/",
          "height": 204
        },
        "id": "Rh1Z_UgaVDQe",
        "outputId": "5bbac72e-b5d1-4c09-8bc4-b6773795498f"
      },
      "source": [
        "df.head()"
      ],
      "execution_count": 5,
      "outputs": [
        {
          "output_type": "execute_result",
          "data": {
            "text/html": [
              "<div>\n",
              "<style scoped>\n",
              "    .dataframe tbody tr th:only-of-type {\n",
              "        vertical-align: middle;\n",
              "    }\n",
              "\n",
              "    .dataframe tbody tr th {\n",
              "        vertical-align: top;\n",
              "    }\n",
              "\n",
              "    .dataframe thead th {\n",
              "        text-align: right;\n",
              "    }\n",
              "</style>\n",
              "<table border=\"1\" class=\"dataframe\">\n",
              "  <thead>\n",
              "    <tr style=\"text-align: right;\">\n",
              "      <th></th>\n",
              "      <th>Year</th>\n",
              "      <th>UserId</th>\n",
              "      <th>ProductId</th>\n",
              "    </tr>\n",
              "  </thead>\n",
              "  <tbody>\n",
              "    <tr>\n",
              "      <th>0</th>\n",
              "      <td>2019</td>\n",
              "      <td>1</td>\n",
              "      <td>1</td>\n",
              "    </tr>\n",
              "    <tr>\n",
              "      <th>1</th>\n",
              "      <td>2019</td>\n",
              "      <td>2</td>\n",
              "      <td>1</td>\n",
              "    </tr>\n",
              "    <tr>\n",
              "      <th>2</th>\n",
              "      <td>2019</td>\n",
              "      <td>3</td>\n",
              "      <td>1</td>\n",
              "    </tr>\n",
              "    <tr>\n",
              "      <th>3</th>\n",
              "      <td>2019</td>\n",
              "      <td>4</td>\n",
              "      <td>1</td>\n",
              "    </tr>\n",
              "    <tr>\n",
              "      <th>4</th>\n",
              "      <td>2019</td>\n",
              "      <td>5</td>\n",
              "      <td>1</td>\n",
              "    </tr>\n",
              "  </tbody>\n",
              "</table>\n",
              "</div>"
            ],
            "text/plain": [
              "   Year  UserId  ProductId\n",
              "0  2019       1          1\n",
              "1  2019       2          1\n",
              "2  2019       3          1\n",
              "3  2019       4          1\n",
              "4  2019       5          1"
            ]
          },
          "metadata": {},
          "execution_count": 5
        }
      ]
    },
    {
      "cell_type": "markdown",
      "metadata": {
        "id": "hd_0O-Q5ZA19"
      },
      "source": [
        "##Seperation of the dataset\n",
        "We seprate the dataset into 2 parts - one with year 2019/2020 and the other with year 2021. The former would be called training data and the latter validation data. To check our model we seperate a validation set on which we will testing our dataset, we use the Leave one out cross validation(LOOCV) method and we pick the user randomly."
      ]
    },
    {
      "cell_type": "code",
      "metadata": {
        "id": "f8vx99STZwA9"
      },
      "source": [
        "year_list = ['2021']\n",
        "valid_df = df[df.Year.isin(year_list)]\n",
        "year_list = ['2019','2020']\n",
        "train_df = df[df.Year.isin(year_list)]"
      ],
      "execution_count": 16,
      "outputs": []
    },
    {
      "cell_type": "code",
      "metadata": {
        "colab": {
          "base_uri": "https://localhost:8080/",
          "height": 204
        },
        "id": "1hfaobczaaRW",
        "outputId": "9cf9b5d3-3cd7-4b9a-9f74-915b10efc2db"
      },
      "source": [
        "train_df.head()"
      ],
      "execution_count": 17,
      "outputs": [
        {
          "output_type": "execute_result",
          "data": {
            "text/html": [
              "<div>\n",
              "<style scoped>\n",
              "    .dataframe tbody tr th:only-of-type {\n",
              "        vertical-align: middle;\n",
              "    }\n",
              "\n",
              "    .dataframe tbody tr th {\n",
              "        vertical-align: top;\n",
              "    }\n",
              "\n",
              "    .dataframe thead th {\n",
              "        text-align: right;\n",
              "    }\n",
              "</style>\n",
              "<table border=\"1\" class=\"dataframe\">\n",
              "  <thead>\n",
              "    <tr style=\"text-align: right;\">\n",
              "      <th></th>\n",
              "      <th>Year</th>\n",
              "      <th>UserId</th>\n",
              "      <th>ProductId</th>\n",
              "    </tr>\n",
              "  </thead>\n",
              "  <tbody>\n",
              "    <tr>\n",
              "      <th>0</th>\n",
              "      <td>2019</td>\n",
              "      <td>1</td>\n",
              "      <td>1</td>\n",
              "    </tr>\n",
              "    <tr>\n",
              "      <th>1</th>\n",
              "      <td>2019</td>\n",
              "      <td>2</td>\n",
              "      <td>1</td>\n",
              "    </tr>\n",
              "    <tr>\n",
              "      <th>2</th>\n",
              "      <td>2019</td>\n",
              "      <td>3</td>\n",
              "      <td>1</td>\n",
              "    </tr>\n",
              "    <tr>\n",
              "      <th>3</th>\n",
              "      <td>2019</td>\n",
              "      <td>4</td>\n",
              "      <td>1</td>\n",
              "    </tr>\n",
              "    <tr>\n",
              "      <th>4</th>\n",
              "      <td>2019</td>\n",
              "      <td>5</td>\n",
              "      <td>1</td>\n",
              "    </tr>\n",
              "  </tbody>\n",
              "</table>\n",
              "</div>"
            ],
            "text/plain": [
              "   Year  UserId  ProductId\n",
              "0  2019       1          1\n",
              "1  2019       2          1\n",
              "2  2019       3          1\n",
              "3  2019       4          1\n",
              "4  2019       5          1"
            ]
          },
          "metadata": {},
          "execution_count": 17
        }
      ]
    },
    {
      "cell_type": "code",
      "metadata": {
        "colab": {
          "base_uri": "https://localhost:8080/",
          "height": 204
        },
        "id": "nVaegeHNadG6",
        "outputId": "1be9001a-d02b-457d-fcde-1baabb13cac9"
      },
      "source": [
        "valid_df.head()"
      ],
      "execution_count": 18,
      "outputs": [
        {
          "output_type": "execute_result",
          "data": {
            "text/html": [
              "<div>\n",
              "<style scoped>\n",
              "    .dataframe tbody tr th:only-of-type {\n",
              "        vertical-align: middle;\n",
              "    }\n",
              "\n",
              "    .dataframe tbody tr th {\n",
              "        vertical-align: top;\n",
              "    }\n",
              "\n",
              "    .dataframe thead th {\n",
              "        text-align: right;\n",
              "    }\n",
              "</style>\n",
              "<table border=\"1\" class=\"dataframe\">\n",
              "  <thead>\n",
              "    <tr style=\"text-align: right;\">\n",
              "      <th></th>\n",
              "      <th>Year</th>\n",
              "      <th>UserId</th>\n",
              "      <th>ProductId</th>\n",
              "    </tr>\n",
              "  </thead>\n",
              "  <tbody>\n",
              "    <tr>\n",
              "      <th>243</th>\n",
              "      <td>2021</td>\n",
              "      <td>222</td>\n",
              "      <td>3</td>\n",
              "    </tr>\n",
              "    <tr>\n",
              "      <th>407</th>\n",
              "      <td>2021</td>\n",
              "      <td>301</td>\n",
              "      <td>2</td>\n",
              "    </tr>\n",
              "    <tr>\n",
              "      <th>410</th>\n",
              "      <td>2021</td>\n",
              "      <td>294</td>\n",
              "      <td>2</td>\n",
              "    </tr>\n",
              "    <tr>\n",
              "      <th>466</th>\n",
              "      <td>2021</td>\n",
              "      <td>320</td>\n",
              "      <td>5</td>\n",
              "    </tr>\n",
              "    <tr>\n",
              "      <th>467</th>\n",
              "      <td>2021</td>\n",
              "      <td>235</td>\n",
              "      <td>5</td>\n",
              "    </tr>\n",
              "  </tbody>\n",
              "</table>\n",
              "</div>"
            ],
            "text/plain": [
              "     Year  UserId  ProductId\n",
              "243  2021     222          3\n",
              "407  2021     301          2\n",
              "410  2021     294          2\n",
              "466  2021     320          5\n",
              "467  2021     235          5"
            ]
          },
          "metadata": {},
          "execution_count": 18
        }
      ]
    },
    {
      "cell_type": "markdown",
      "metadata": {
        "id": "xd7tYmmvcglU"
      },
      "source": [
        "We find the set of users and the set of items on the whole dataset"
      ]
    },
    {
      "cell_type": "code",
      "metadata": {
        "id": "3wKywdufb4ZU"
      },
      "source": [
        "userSet = set()\n",
        "itemSet = set()\n",
        "for index,d in df.iterrows():\n",
        "  userSet.add(d['UserId'])\n",
        "  itemSet.add(d['ProductId'])\n",
        "\n",
        "total_users = len(userSet)\n",
        "total_items = len(itemSet)"
      ],
      "execution_count": 33,
      "outputs": []
    },
    {
      "cell_type": "code",
      "metadata": {
        "id": "CBgoscxu1VGM"
      },
      "source": [
        "import random\n",
        "\n",
        "ValidUserId = random.randint(1,total_users)\n",
        "Valid_User_item_matrix = user_item_matrix[ValidUserId]"
      ],
      "execution_count": 27,
      "outputs": []
    },
    {
      "cell_type": "markdown",
      "metadata": {
        "id": "Nhg6mk1sBAXJ"
      },
      "source": [
        "##User and Item datasets\n",
        "\n",
        "For a recommendation system to work properly, we would require three types of data -\n",
        "\n",
        "\n",
        "1.   **User Dictionary:** These contain the items bought by each user\n",
        "2.   **Item Dictionary:** These contain the users that bought each item.\n",
        "3. **User-Item Matrix:** This contains the items each user bought as well as how many times that particular item was bought.\n",
        "\n"
      ]
    },
    {
      "cell_type": "code",
      "metadata": {
        "id": "inOc5ApyViCy"
      },
      "source": [
        "usersPerItem = defaultdict(set)\n",
        "itemsPerUser = defaultdict(set)"
      ],
      "execution_count": 35,
      "outputs": []
    },
    {
      "cell_type": "code",
      "metadata": {
        "id": "cpQ7dkSzVxoF"
      },
      "source": [
        "for index,d in train_df.iterrows():\n",
        "    user,item = d['UserId'], d['ProductId']\n",
        "    usersPerItem[item].add(user)\n",
        "    itemsPerUser[user].add(item)"
      ],
      "execution_count": 36,
      "outputs": []
    },
    {
      "cell_type": "code",
      "metadata": {
        "id": "g-iIovSZgNAc"
      },
      "source": [
        "#The above only contains the set of user/items of training dataset\n",
        "totalUsersPerItem = defaultdict(set)\n",
        "totalItemsPerUser = defaultdict(set)\n",
        "for index,d in df.iterrows():\n",
        "    user,item = d['UserId'], d['ProductId']\n",
        "    totalUsersPerItem[item].add(user)\n",
        "    totalItemsPerUser[user].add(item)"
      ],
      "execution_count": 94,
      "outputs": []
    },
    {
      "cell_type": "markdown",
      "metadata": {
        "id": "sLsLA-v5B27Q"
      },
      "source": [
        "We have created the sets of users per item and items per user"
      ]
    },
    {
      "cell_type": "code",
      "metadata": {
        "colab": {
          "base_uri": "https://localhost:8080/"
        },
        "id": "BgLyzq0d-nJM",
        "outputId": "2415e45f-a01e-4e0d-dd5f-3afb90eabd76"
      },
      "source": [
        "train_items = len(usersPerItem)\n",
        "print(\"The total number of items in the training dataset are\", train_items)\n",
        "train_users = len(itemsPerUser)\n",
        "print(\"The total number of users in the training dataset are\", train_users)\n",
        "print(\"The items bought by user with UserID 1 in 2019/20 is - \", itemsPerUser[1])"
      ],
      "execution_count": 37,
      "outputs": [
        {
          "output_type": "stream",
          "name": "stdout",
          "text": [
            "The total number of items in the training dataset are 25\n",
            "The total number of users in the training dataset are 643\n",
            "The items bought by user with UserID 1 in 2019/20 is -  {1, 4, 5, 6, 7, 8, 13, 15, 17}\n"
          ]
        }
      ]
    },
    {
      "cell_type": "code",
      "metadata": {
        "id": "cduQFmKb_UZX"
      },
      "source": [
        "user_item_matrix = np.empty([total_users, total_items])\n",
        "\n",
        "for index,d in train_df.iterrows():\n",
        "    user,item = d['UserId'], d['ProductId']\n",
        "    user_item_matrix[int(user) - 1][int(item) - 1] += 1"
      ],
      "execution_count": 38,
      "outputs": []
    },
    {
      "cell_type": "markdown",
      "metadata": {
        "id": "6Lt5nwu3B8fN"
      },
      "source": [
        "We have created a user-item matrix"
      ]
    },
    {
      "cell_type": "code",
      "metadata": {
        "colab": {
          "base_uri": "https://localhost:8080/"
        },
        "id": "4frCVIvZAHyA",
        "outputId": "8c9cc1e7-4abc-44a9-c6f1-faa6052d1a45"
      },
      "source": [
        "print(\"The items bought by user with UserID 1 in 2019/20 is - \")\n",
        "for i in range(total_items):\n",
        "  print(\"The product with ProductID\" , i+1 , \"was bought\" , int(user_item_matrix[0][i]) , \"times\")"
      ],
      "execution_count": 39,
      "outputs": [
        {
          "output_type": "stream",
          "name": "stdout",
          "text": [
            "The items bought by user with UserID 1 in 2019/20 is - \n",
            "The product with ProductID 1 was bought 3 times\n",
            "The product with ProductID 2 was bought 0 times\n",
            "The product with ProductID 3 was bought 0 times\n",
            "The product with ProductID 4 was bought 1 times\n",
            "The product with ProductID 5 was bought 1 times\n",
            "The product with ProductID 6 was bought 1 times\n",
            "The product with ProductID 7 was bought 1 times\n",
            "The product with ProductID 8 was bought 1 times\n",
            "The product with ProductID 9 was bought 0 times\n",
            "The product with ProductID 10 was bought 0 times\n",
            "The product with ProductID 11 was bought 0 times\n",
            "The product with ProductID 12 was bought 0 times\n",
            "The product with ProductID 13 was bought 1 times\n",
            "The product with ProductID 14 was bought 0 times\n",
            "The product with ProductID 15 was bought 3 times\n",
            "The product with ProductID 16 was bought 0 times\n",
            "The product with ProductID 17 was bought 1 times\n",
            "The product with ProductID 18 was bought 0 times\n",
            "The product with ProductID 19 was bought 0 times\n",
            "The product with ProductID 20 was bought 0 times\n",
            "The product with ProductID 21 was bought 0 times\n",
            "The product with ProductID 22 was bought 0 times\n",
            "The product with ProductID 23 was bought 0 times\n",
            "The product with ProductID 24 was bought 0 times\n",
            "The product with ProductID 25 was bought 0 times\n",
            "The product with ProductID 26 was bought 0 times\n"
          ]
        }
      ]
    },
    {
      "cell_type": "markdown",
      "metadata": {
        "id": "v_8VlEQYCiYb"
      },
      "source": [
        "As you can see this also encodes the information about which product was bought how many times."
      ]
    },
    {
      "cell_type": "markdown",
      "metadata": {
        "id": "4HVdHLx5DEF8"
      },
      "source": [
        "##Jaccard Index\n",
        "The Jaccard index is a statistic used for gauging the similarity and diversity of sample sets. The Jaccard coefficient measures similarity between finite sample sets, and is defined as the size of the intersection divided by the size of the union of the sample sets.\n",
        "\n",
        "The thing to note is that Jaccard Similarity finds the similarity between two"
      ]
    },
    {
      "cell_type": "code",
      "metadata": {
        "id": "ze5KCPe5WuRz"
      },
      "source": [
        "def Jaccard(s1, s2):\n",
        "  if(len(s1) == 0 or len(s2) == 0):\n",
        "    return 0\n",
        "  numer = len(s1.intersection(s2))\n",
        "  denom = len(s1.union(s2))\n",
        "  return numer / denom"
      ],
      "execution_count": 51,
      "outputs": []
    },
    {
      "cell_type": "markdown",
      "metadata": {
        "id": "EK850WaNDoGM"
      },
      "source": [
        "Based on the Jaccard similarity, we can create a similarity matrix between all the items."
      ]
    },
    {
      "cell_type": "code",
      "metadata": {
        "id": "wrKp5H-iYbEQ"
      },
      "source": [
        "jaccard_sim_matrix = np.zeros([total_items, total_items])\n",
        "\n",
        "for i in range(total_items):\n",
        "  for j in range(total_items):\n",
        "    set_one = usersPerItem[i+1]\n",
        "    set_two = usersPerItem[j+1]\n",
        "    jaccard_index = Jaccard(set_one, set_two)\n",
        "    jaccard_sim_matrix[i][j] = jaccard_index"
      ],
      "execution_count": 52,
      "outputs": []
    },
    {
      "cell_type": "markdown",
      "metadata": {
        "id": "sMORkhkKKCZw"
      },
      "source": [
        "The following color plot, shows the similarity between items."
      ]
    },
    {
      "cell_type": "code",
      "metadata": {
        "colab": {
          "base_uri": "https://localhost:8080/",
          "height": 269
        },
        "id": "D12aDt1tEprL",
        "outputId": "65989283-8392-49bf-f7d0-d704c23ef844"
      },
      "source": [
        "import matplotlib.pyplot as plt\n",
        "\n",
        "plt.imshow(jaccard_sim_matrix)\n",
        "plt.colorbar()\n",
        "plt.show()"
      ],
      "execution_count": 53,
      "outputs": [
        {
          "output_type": "display_data",
          "data": {
            "image/png": "[encoded data removed]",
            "text/plain": [
              "<Figure size 432x288 with 2 Axes>"
            ]
          },
          "metadata": {
            "needs_background": "light"
          }
        }
      ]
    },
    {
      "cell_type": "markdown",
      "metadata": {
        "id": "zBBOIVQyFQ47"
      },
      "source": [
        "For each item we can see all the similar items, and thus can use this for recommendation, we also calculate the same for each user."
      ]
    },
    {
      "cell_type": "code",
      "metadata": {
        "id": "NB9xP7psFZO6"
      },
      "source": [
        "jaccard_sim_matrix_users = np.zeros([total_users, total_users])\n",
        "\n",
        "for i in range(total_users):\n",
        "  for j in range(total_users):\n",
        "    set_one = itemsPerUser[i+1]\n",
        "    set_two = itemsPerUser[j+1]\n",
        "    jaccard_index = Jaccard(set_one, set_two)\n",
        "    jaccard_sim_matrix_users[i][j] = jaccard_index"
      ],
      "execution_count": 54,
      "outputs": []
    },
    {
      "cell_type": "markdown",
      "metadata": {
        "id": "kYv6ClTKJ8F7"
      },
      "source": [
        "The following color plot, shows the similarity between users."
      ]
    },
    {
      "cell_type": "code",
      "metadata": {
        "colab": {
          "base_uri": "https://localhost:8080/",
          "height": 269
        },
        "id": "mnbPlfyvFt29",
        "outputId": "862eb5be-6f21-4ed0-bc3c-d04d7a416836"
      },
      "source": [
        "import matplotlib.pyplot as plt\n",
        "\n",
        "plt.imshow(jaccard_sim_matrix_users)\n",
        "plt.colorbar()\n",
        "plt.show()"
      ],
      "execution_count": 55,
      "outputs": [
        {
          "output_type": "display_data",
          "data": {
            "image/png": "[encoded data removed]",
            "text/plain": [
              "<Figure size 432x288 with 2 Axes>"
            ]
          },
          "metadata": {
            "needs_background": "light"
          }
        }
      ]
    },
    {
      "cell_type": "markdown",
      "metadata": {
        "id": "HESaf_z3J1Gj"
      },
      "source": [
        "##Cosine Similarity\n",
        "Given that we have a vector of items for each user we can find similarity between them."
      ]
    },
    {
      "cell_type": "code",
      "metadata": {
        "id": "jIcZQOhhfCIF"
      },
      "source": [
        "#This checks whether the array is all zeros\n",
        "def check(arr):\n",
        "    if np.all(arr == 0):\n",
        "        return True\n",
        "    return False"
      ],
      "execution_count": 77,
      "outputs": []
    },
    {
      "cell_type": "code",
      "metadata": {
        "id": "qjXqTSv5GOiK"
      },
      "source": [
        "from scipy import spatial\n",
        "\n",
        "def cosine_sim(a, b):\n",
        "  if(check(a) or check(b)):\n",
        "    return 0.0\n",
        "  cosine_similarity = 1 - float(spatial.distance.cosine(a, b))\n",
        "  return cosine_similarity"
      ],
      "execution_count": 78,
      "outputs": []
    },
    {
      "cell_type": "markdown",
      "metadata": {
        "id": "N5qsovwxUjsu"
      },
      "source": [
        "To find the Item-Item cosine similarity we take the column of the user-item matrix and fine their similarities"
      ]
    },
    {
      "cell_type": "code",
      "metadata": {
        "colab": {
          "base_uri": "https://localhost:8080/"
        },
        "id": "LXk02hovLqAq",
        "outputId": "ee36938b-9175-44b6-b1dc-66632caff6fe"
      },
      "source": [
        "Item_vector_one = user_item_matrix[:,0]\n",
        "Item_vector_two = user_item_matrix[:,1]\n",
        "\n",
        "print(\"Cosine Similarity: \", cosine_sim(Item_vector_one,Item_vector_two))"
      ],
      "execution_count": 79,
      "outputs": [
        {
          "output_type": "stream",
          "name": "stdout",
          "text": [
            "Cosine Similarity:  0.05766167937114075\n"
          ]
        }
      ]
    },
    {
      "cell_type": "code",
      "metadata": {
        "id": "mKsnVSfeVEfz"
      },
      "source": [
        "cosine_similarity_matrix = np.zeros([total_items, total_items])\n",
        "\n",
        "for i in range(total_items):\n",
        "  for j in range(total_items):\n",
        "    Item_vector_one = user_item_matrix[:,i]\n",
        "    Item_vector_two = user_item_matrix[:,j]\n",
        "    cos_sim = cosine_sim(Item_vector_one,Item_vector_two)\n",
        "    cosine_similarity_matrix[i][j] = cos_sim"
      ],
      "execution_count": 80,
      "outputs": []
    },
    {
      "cell_type": "markdown",
      "metadata": {
        "id": "vv1QJ64EV1Dx"
      },
      "source": [
        "The following shows the similarity measure in items-\n"
      ]
    },
    {
      "cell_type": "code",
      "metadata": {
        "colab": {
          "base_uri": "https://localhost:8080/",
          "height": 269
        },
        "id": "IKP_8TCnVwqA",
        "outputId": "dfa7c116-dd5f-4375-c0db-9bdb760d50d6"
      },
      "source": [
        "plt.imshow(cosine_similarity_matrix)\n",
        "plt.colorbar()\n",
        "plt.show()"
      ],
      "execution_count": 81,
      "outputs": [
        {
          "output_type": "display_data",
          "data": {
            "image/png": "[encoded data removed]",
            "text/plain": [
              "<Figure size 432x288 with 2 Axes>"
            ]
          },
          "metadata": {
            "needs_background": "light"
          }
        }
      ]
    },
    {
      "cell_type": "markdown",
      "metadata": {
        "id": "cgQCOJNaT64F"
      },
      "source": [
        "##Item Based Collaborative Filtering\n",
        "\n",
        "Now that we have a similarity measure between the items we can use this to recommend items to users"
      ]
    },
    {
      "cell_type": "markdown",
      "metadata": {
        "id": "t0F8kydnWIM_"
      },
      "source": [
        "##**Model 1:** K-Nearest Neighbours with cosine similarity\n",
        "\n",
        "The algorithm works as follows-\n",
        "\n",
        "\n",
        "*   For each user determine the set of items bought\n",
        "*   For each item in the list find the K-Nearest items based on cosine similarity\n",
        "*   From the set we multiply the cosine similarity based on how many times the user has bought that item(the one that was used to find the similar item list)\n",
        "*   We sort the items based on the value.\n",
        "*   We can calculate recall and precision for the user.\n",
        "*   We make predictions based on the items.\n",
        "\n"
      ]
    },
    {
      "cell_type": "code",
      "metadata": {
        "id": "HcU-vKu9aVcM"
      },
      "source": [
        "def getTopKforItem(ProductId,k):\n",
        "  cosine_vector = cosine_similarity_matrix[ProductId-1]\n",
        "  a = dict([(i+1, j) for i, j in enumerate(cosine_vector)])\n",
        "  sorted_a = dict(sorted(a.items(), key = lambda kv:kv[1], reverse=True))\n",
        "  indices = list(sorted_a.keys())[1:k+1]\n",
        "  values = list(sorted_a.values())[1:k+1]\n",
        "  return (indices,values)"
      ],
      "execution_count": 115,
      "outputs": []
    },
    {
      "cell_type": "code",
      "metadata": {
        "colab": {
          "base_uri": "https://localhost:8080/"
        },
        "id": "Zp3VRrUobZWA",
        "outputId": "7f6af512-054a-4ebb-9bed-98ad31313e3b"
      },
      "source": [
        "print(getTopKforItem(1,3))"
      ],
      "execution_count": 116,
      "outputs": [
        {
          "output_type": "stream",
          "name": "stdout",
          "text": [
            "([8, 13, 17], [0.9155075452726154, 0.7903399984919822, 0.5654642857569986])\n"
          ]
        }
      ]
    },
    {
      "cell_type": "markdown",
      "metadata": {
        "id": "ah2XgJ78buUQ"
      },
      "source": [
        "The above code finds the nearest items for a particular item"
      ]
    },
    {
      "cell_type": "code",
      "metadata": {
        "id": "J7QBJCr5cBwQ"
      },
      "source": [
        "def getTopKforUser(UserID,k):\n",
        "  items = totalItemsPerUser[UserID]\n",
        "  recommendations = {}\n",
        "  for item in items:\n",
        "    item_reccomendations = getTopKforItem(item,k)\n",
        "    num = user_item_matrix[UserID-1][item-1]\n",
        "    for i in range(k):\n",
        "      item_rec = item_reccomendations[0][i]\n",
        "      item_rec_val = num*item_reccomendations[1][i]\n",
        "      if item_rec in recommendations:\n",
        "        recommendations[item_rec] = recommendations[item_rec]+item_rec_val\n",
        "      else:\n",
        "        recommendations[item_rec] = item_rec_val\n",
        "  sorted_rec = dict(sorted(recommendations.items(), key = lambda kv:kv[1], reverse=True))\n",
        "  indices = list(sorted_rec.keys())[:k]\n",
        "  values = list(sorted_rec.values())[:k]\n",
        "  return (indices,values)"
      ],
      "execution_count": 117,
      "outputs": []
    },
    {
      "cell_type": "markdown",
      "metadata": {
        "id": "YTJL52UgmIyJ"
      },
      "source": [
        "The above code takes a user and finds the products that should be recommended based on "
      ]
    },
    {
      "cell_type": "code",
      "metadata": {
        "colab": {
          "base_uri": "https://localhost:8080/"
        },
        "id": "vTQ_VPiFkRdt",
        "outputId": "1d621a98-9e89-4aa2-dba3-7735220a87dd"
      },
      "source": [
        "print(itemsPerUser[1])"
      ],
      "execution_count": 118,
      "outputs": [
        {
          "output_type": "stream",
          "name": "stdout",
          "text": [
            "{1, 4, 5, 6, 7, 8, 13, 15, 17}\n"
          ]
        }
      ]
    },
    {
      "cell_type": "code",
      "metadata": {
        "colab": {
          "base_uri": "https://localhost:8080/"
        },
        "id": "7V7CmaKYhUZE",
        "outputId": "00fc52c6-deeb-4a94-ba9e-a9ab5f4984ac"
      },
      "source": [
        "print(getTopKforUser(1,1))"
      ],
      "execution_count": 119,
      "outputs": [
        {
          "output_type": "stream",
          "name": "stdout",
          "text": [
            "([8], [2.746522635817846])\n"
          ]
        }
      ]
    },
    {
      "cell_type": "code",
      "metadata": {
        "colab": {
          "base_uri": "https://localhost:8080/"
        },
        "id": "hFmLE6aEm1yn",
        "outputId": "e05bf8fc-8223-4954-e944-13ff479fc5f3"
      },
      "source": [
        "precision = np.zeros([total_items-1])\n",
        "recall = np.zeros([total_items-1])\n",
        "times = 0\n",
        "for user in range(1,total_users):\n",
        "  items = totalItemsPerUser[user]\n",
        "  for k in range(1,total_items):\n",
        "    recs = getTopKforUser(user,k)[0]\n",
        "    pres = 0\n",
        "    rec = 0\n",
        "    for item in recs:\n",
        "      if item in items:\n",
        "        rec += 1\n",
        "        pres += 1\n",
        "    try:\n",
        "      pres /= len(recs)\n",
        "      rec /= len(items)\n",
        "    except:\n",
        "      pres = 0\n",
        "      rec = 0\n",
        "    precision[k-1] += pres\n",
        "    recall[k-1] += rec\n",
        "  times +=1.0\n",
        "precision = np.divide(precision, times)\n",
        "recall = np.divide(recall, times)\n",
        "print(precision)\n",
        "print(recall)"
      ],
      "execution_count": 120,
      "outputs": [
        {
          "output_type": "stream",
          "name": "stdout",
          "text": [
            "[0.77348066 0.62638122 0.61325967 0.57769337 0.52900552 0.48664825\n",
            " 0.45501184 0.39986188 0.39533456 0.36160221 0.33237067 0.30893186\n",
            " 0.28824904 0.26805446 0.25202578 0.23782804 0.22521937 0.21485574\n",
            " 0.20449259 0.19537293 0.18639832 0.1781768  0.17061014 0.16355893\n",
            " 0.15745856]\n",
            "[0.19301405 0.28501027 0.40026518 0.49437703 0.57146759 0.61489819\n",
            " 0.66077004 0.63990392 0.739072   0.74825006 0.75519401 0.76468384\n",
            " 0.77505775 0.77573525 0.78030971 0.78500813 0.7889435  0.79610723\n",
            " 0.79968524 0.80396756 0.80579767 0.80664174 0.80871357 0.80898981\n",
            " 0.81314392]\n"
          ]
        }
      ]
    },
    {
      "cell_type": "markdown",
      "metadata": {
        "id": "bJHcGwaTsp-3"
      },
      "source": [
        "##Precision and Recall curves\n",
        "We are getting k nearest items for each user, we vary this k from 1 to total number of items which is the max we can get. We plot the precision and recall curves for each value of K."
      ]
    },
    {
      "cell_type": "code",
      "metadata": {
        "colab": {
          "base_uri": "https://localhost:8080/",
          "height": 282
        },
        "id": "mxizvqpeqLA0",
        "outputId": "82dbb983-5bf4-4305-8d43-ceff679640c6"
      },
      "source": [
        "plt.plot(precision[:])\n",
        "plt.xlabel(\"Number of recommendations\")\n",
        "plt.ylabel(\"Precision\")\n",
        "plt.show()"
      ],
      "execution_count": 121,
      "outputs": [
        {
          "output_type": "display_data",
          "data": {
            "image/png": "[encoded data removed]",
            "text/plain": [
              "<Figure size 432x288 with 1 Axes>"
            ]
          },
          "metadata": {
            "needs_background": "light"
          }
        }
      ]
    },
    {
      "cell_type": "code",
      "metadata": {
        "colab": {
          "base_uri": "https://localhost:8080/",
          "height": 279
        },
        "id": "oE4yRpgptY1B",
        "outputId": "266fba65-c708-437f-ce06-0c3d7dc38510"
      },
      "source": [
        "plt.plot(recall[:])\n",
        "plt.xlabel(\"Number of recommendations\")\n",
        "plt.ylabel(\"Recall\")\n",
        "plt.show()"
      ],
      "execution_count": 122,
      "outputs": [
        {
          "output_type": "display_data",
          "data": {
            "image/png": "[encoded data removed]",
            "text/plain": [
              "<Figure size 432x288 with 1 Axes>"
            ]
          },
          "metadata": {
            "needs_background": "light"
          }
        }
      ]
    },
    {
      "cell_type": "markdown",
      "metadata": {
        "id": "XKjWK-BOtePX"
      },
      "source": [
        "Note that the precision will continue to decrease after some points as we are recommending more than what the user has bought. Whereas the recall should keep on increasing till all the relevant prodcuts are shown."
      ]
    },
    {
      "cell_type": "code",
      "metadata": {
        "id": "EWlsDeButwJ5"
      },
      "source": [
        "rec_data = []\n",
        "for users in range(1,total_users):\n",
        "  recs = getTopKforUser(users,3)[0]\n",
        "  recs.insert(0,users)\n",
        "  rec_data.append(recs)"
      ],
      "execution_count": 123,
      "outputs": []
    },
    {
      "cell_type": "code",
      "metadata": {
        "id": "22XKKcFxu-mn"
      },
      "source": [
        "df = pd.DataFrame(rec_data, columns = ['UserId', 'Recommendation 1','Recommendation 2','Recommendation 3'])"
      ],
      "execution_count": 124,
      "outputs": []
    },
    {
      "cell_type": "code",
      "metadata": {
        "id": "R_eVaQTMvJq2"
      },
      "source": [
        "df.to_csv('./knn.csv', sep = ',', index = False)"
      ],
      "execution_count": 125,
      "outputs": []
    },
    {
      "cell_type": "code",
      "metadata": {
        "colab": {
          "base_uri": "https://localhost:8080/",
          "height": 17
        },
        "id": "dt8vBw_9vieR",
        "outputId": "b44a698e-a6db-4578-b6a6-e62e7a32c903"
      },
      "source": [
        "from google.colab import files\n",
        "files.download('knn.csv')"
      ],
      "execution_count": 126,
      "outputs": [
        {
          "output_type": "display_data",
          "data": {
            "application/javascript": [
              "\n",
              "    async function download(id, filename, size) {\n",
              "      if (!google.colab.kernel.accessAllowed) {\n",
              "        return;\n",
              "      }\n",
              "      const div = document.createElement('div');\n",
              "      const label = document.createElement('label');\n",
              "      label.textContent = `Downloading \"${filename}\": `;\n",
              "      div.appendChild(label);\n",
              "      const progress = document.createElement('progress');\n",
              "      progress.max = size;\n",
              "      div.appendChild(progress);\n",
              "      document.body.appendChild(div);\n",
              "\n",
              "      const buffers = [];\n",
              "      let downloaded = 0;\n",
              "\n",
              "      const channel = await google.colab.kernel.comms.open(id);\n",
              "      // Send a message to notify the kernel that we're ready.\n",
              "      channel.send({})\n",
              "\n",
              "      for await (const message of channel.messages) {\n",
              "        // Send a message to notify the kernel that we're ready.\n",
              "        channel.send({})\n",
              "        if (message.buffers) {\n",
              "          for (const buffer of message.buffers) {\n",
              "            buffers.push(buffer);\n",
              "            downloaded += buffer.byteLength;\n",
              "            progress.value = downloaded;\n",
              "          }\n",
              "        }\n",
              "      }\n",
              "      const blob = new Blob(buffers, {type: 'application/binary'});\n",
              "      const a = document.createElement('a');\n",
              "      a.href = window.URL.createObjectURL(blob);\n",
              "      a.download = filename;\n",
              "      div.appendChild(a);\n",
              "      a.click();\n",
              "      div.remove();\n",
              "    }\n",
              "  "
            ],
            "text/plain": [
              "<IPython.core.display.Javascript object>"
            ]
          },
          "metadata": {}
        },
        {
          "output_type": "display_data",
          "data": {
            "application/javascript": [
              "download(\"download_4fe8ac13-beef-4c53-830d-398017606939\", \"knn.csv\", 8351)"
            ],
            "text/plain": [
              "<IPython.core.display.Javascript object>"
            ]
          },
          "metadata": {}
        }
      ]
    },
    {
      "cell_type": "markdown",
      "metadata": {
        "id": "NExmsiMN1-2B"
      },
      "source": [
        "###Predictions on Validation set\n",
        "Based on the KNN model formed above we test our results on the validation dataset"
      ]
    },
    {
      "cell_type": "code",
      "metadata": {
        "colab": {
          "base_uri": "https://localhost:8080/"
        },
        "id": "gTpny56m195S",
        "outputId": "9134d1b8-a40c-49cf-86a1-9c7046d5abb2"
      },
      "source": [
        "precision = 0\n",
        "recall = 0\n",
        "times = 0\n",
        "\n",
        "for index,d in valid_df.iterrows():\n",
        "  ValidUserId = d['UserId']\n",
        "  items = totalItemsPerUser[ValidUserId]\n",
        "  recs = getTopKforUser(user,3)[0]\n",
        "  pres = 0\n",
        "  rec = 0\n",
        "  for item in recs:\n",
        "    if item in items:\n",
        "      rec += 1\n",
        "      pres += 1\n",
        "  pres /= len(recs)\n",
        "  rec /= len(items)\n",
        "  precision += pres\n",
        "  recall += rec\n",
        "  times += 1\n",
        "\n",
        "precision = np.divide(precision, times)\n",
        "recall = np.divide(recall, times)\n",
        "\n",
        "print(\"The precision on the validation dataset is\" , precision)\n",
        "print(\"The recall on the validation dataset is\" , recall)"
      ],
      "execution_count": 139,
      "outputs": [
        {
          "output_type": "stream",
          "name": "stdout",
          "text": [
            "The precision on the validation dataset is 0.6869591166815853\n",
            "The recall on the validation dataset is 0.44883894579507744\n"
          ]
        }
      ]
    },
    {
      "cell_type": "markdown",
      "metadata": {
        "id": "4hs9m4miwBbO"
      },
      "source": [
        "##**Model 2:** Jaccard Index\n",
        "\n",
        "The algorithm works as follows-\n",
        "\n",
        "\n",
        "*   For each user determine the set of items bought\n",
        "*   For each item in the list find the items based on jaccard index\n",
        "*   We sort the items based on the value.\n",
        "*   We can calculate recall and precision for the user.\n",
        "*   We make predictions based on the items.\n",
        "\n"
      ]
    },
    {
      "cell_type": "code",
      "metadata": {
        "id": "26Bx5L6iwOSn"
      },
      "source": [
        "def getTopKforItemJI(ProductId,k):\n",
        "  cosine_vector = jaccard_sim_matrix[ProductId-1]\n",
        "  a = dict([(i+1, j) for i, j in enumerate(cosine_vector)])\n",
        "  sorted_a = dict(sorted(a.items(), key = lambda kv:kv[1], reverse=True))\n",
        "  indices = list(sorted_a.keys())[1:k+1]\n",
        "  values = list(sorted_a.values())[1:k+1]\n",
        "  return (indices,values)"
      ],
      "execution_count": 127,
      "outputs": []
    },
    {
      "cell_type": "code",
      "metadata": {
        "colab": {
          "base_uri": "https://localhost:8080/"
        },
        "id": "Ea9kcnPrwwD9",
        "outputId": "3b3817db-f5c1-4a99-8573-ac0b6762276b"
      },
      "source": [
        "print(getTopKforItemJI(1,3))"
      ],
      "execution_count": 128,
      "outputs": [
        {
          "output_type": "stream",
          "name": "stdout",
          "text": [
            "([13, 8, 17], [0.740072202166065, 0.5981735159817352, 0.39037433155080214])\n"
          ]
        }
      ]
    },
    {
      "cell_type": "markdown",
      "metadata": {
        "id": "6pZ6ax_bwwD9"
      },
      "source": [
        "The above code finds the nearest items for a particular item"
      ]
    },
    {
      "cell_type": "code",
      "metadata": {
        "id": "K7eg9LaawwD9"
      },
      "source": [
        "def getTopKforUserJI(UserID,k):\n",
        "  items = totalItemsPerUser[UserID]\n",
        "  recommendations = {}\n",
        "  for item in items:\n",
        "    item_reccomendations = getTopKforItemJI(item,k)\n",
        "    for i in range(k):\n",
        "      item_rec = item_reccomendations[0][i]\n",
        "      item_rec_val = item_reccomendations[1][i]\n",
        "      if item_rec in recommendations:\n",
        "        recommendations[item_rec] = max(recommendations[item_rec],item_rec_val)\n",
        "      else:\n",
        "        recommendations[item_rec] = item_rec_val\n",
        "  sorted_rec = dict(sorted(recommendations.items(), key = lambda kv:kv[1], reverse=True))\n",
        "  indices = list(sorted_rec.keys())[:k]\n",
        "  values = list(sorted_rec.values())[:k]\n",
        "  return (indices,values)"
      ],
      "execution_count": 129,
      "outputs": []
    },
    {
      "cell_type": "markdown",
      "metadata": {
        "id": "Xts-__rVwwD-"
      },
      "source": [
        "The above code takes a user and finds the products that should be recommended based on "
      ]
    },
    {
      "cell_type": "code",
      "metadata": {
        "colab": {
          "base_uri": "https://localhost:8080/"
        },
        "id": "DfDGn2DkwwD-",
        "outputId": "53496ca5-5fda-43f6-a6cc-960cc9601164"
      },
      "source": [
        "print(itemsPerUser[1])"
      ],
      "execution_count": 130,
      "outputs": [
        {
          "output_type": "stream",
          "name": "stdout",
          "text": [
            "{1, 4, 5, 6, 7, 8, 13, 15, 17}\n"
          ]
        }
      ]
    },
    {
      "cell_type": "code",
      "metadata": {
        "colab": {
          "base_uri": "https://localhost:8080/"
        },
        "id": "PPhCzZuEwwD-",
        "outputId": "e13835b9-3e43-494d-dd8d-5a00f52a7aa4"
      },
      "source": [
        "print(getTopKforUserJI(1,1))"
      ],
      "execution_count": 131,
      "outputs": [
        {
          "output_type": "stream",
          "name": "stdout",
          "text": [
            "([17], [0.8687196110210696])\n"
          ]
        }
      ]
    },
    {
      "cell_type": "code",
      "metadata": {
        "colab": {
          "base_uri": "https://localhost:8080/"
        },
        "id": "occlRK2IwwD-",
        "outputId": "80d303bd-4514-4aeb-9410-b716f98986e0"
      },
      "source": [
        "precisionJI = np.zeros([total_items-1])\n",
        "recallJI = np.zeros([total_items-1])\n",
        "times = 0\n",
        "for user in range(1,total_users):\n",
        "  items = totalItemsPerUser[user]\n",
        "  for k in range(1,total_items):\n",
        "    recs = getTopKforUserJI(user,k)[0]\n",
        "    pres = 0\n",
        "    rec = 0\n",
        "    for item in recs:\n",
        "      if item in items:\n",
        "        rec += 1\n",
        "        pres += 1\n",
        "    try:\n",
        "      pres /= len(recs)\n",
        "      rec /= len(items)\n",
        "    except:\n",
        "      pres = 0\n",
        "      rec = 0\n",
        "    precisionJI[k-1] += pres\n",
        "    recallJI[k-1] += rec\n",
        "  times +=1.0\n",
        "precisionJI = np.divide(precisionJI, times)\n",
        "recallJI = np.divide(recallJI, times)\n",
        "print(precisionJI)\n",
        "print(recallJI)"
      ],
      "execution_count": 132,
      "outputs": [
        {
          "output_type": "stream",
          "name": "stdout",
          "text": [
            "[0.78453039 0.78453039 0.65653775 0.60531768 0.52679558 0.49516575\n",
            " 0.46685083 0.42955801 0.40239411 0.37320442 0.3401557  0.31560773\n",
            " 0.29483638 0.27486188 0.25764273 0.24240331 0.22887553 0.21754144\n",
            " 0.20681884 0.19779006 0.18968692 0.18131592 0.17361278 0.16637891\n",
            " 0.15977901]\n",
            "[0.18963007 0.37926014 0.44967542 0.53401741 0.5752309  0.64753708\n",
            " 0.69654018 0.72874896 0.77410166 0.79754236 0.79866323 0.80570524\n",
            " 0.81280699 0.81490183 0.81728777 0.81895519 0.82087688 0.82655302\n",
            " 0.82895754 0.83390147 0.8390603  0.8399389  0.84053803 0.84053803\n",
            " 0.84099843]\n"
          ]
        }
      ]
    },
    {
      "cell_type": "markdown",
      "metadata": {
        "id": "9um1W88ZwwD-"
      },
      "source": [
        "##Precision and Recall curves\n",
        "We are getting k nearest items for each user, we vary this k from 1 to total number of items which is the max we can get. We plot the precision and recall curves for each value of K."
      ]
    },
    {
      "cell_type": "code",
      "metadata": {
        "colab": {
          "base_uri": "https://localhost:8080/",
          "height": 279
        },
        "id": "ItHDbCM2wwD_",
        "outputId": "18fd207c-7060-409b-e6b6-83e7aa068769"
      },
      "source": [
        "plt.plot(precisionJI[:])\n",
        "plt.xlabel(\"Number of recommendations\")\n",
        "plt.ylabel(\"Precision\")\n",
        "plt.show()"
      ],
      "execution_count": 133,
      "outputs": [
        {
          "output_type": "display_data",
          "data": {
            "image/png": "[encoded data removed]",
            "text/plain": [
              "<Figure size 432x288 with 1 Axes>"
            ]
          },
          "metadata": {
            "needs_background": "light"
          }
        }
      ]
    },
    {
      "cell_type": "code",
      "metadata": {
        "colab": {
          "base_uri": "https://localhost:8080/",
          "height": 279
        },
        "id": "gAuAhHAAwwD_",
        "outputId": "643ff451-533c-4084-806d-2869a0f3ade4"
      },
      "source": [
        "plt.plot(recallJI[:])\n",
        "plt.xlabel(\"Number of recommendations\")\n",
        "plt.ylabel(\"Recall\")\n",
        "plt.show()"
      ],
      "execution_count": 134,
      "outputs": [
        {
          "output_type": "display_data",
          "data": {
            "image/png": "[encoded data removed]",
            "text/plain": [
              "<Figure size 432x288 with 1 Axes>"
            ]
          },
          "metadata": {
            "needs_background": "light"
          }
        }
      ]
    },
    {
      "cell_type": "markdown",
      "metadata": {
        "id": "dXIqV0ULwwD_"
      },
      "source": [
        "Note that the precision will continue to decrease after some points as we are recommending more than what the user has bought. Whereas the recall should keep on increasing till all the relevant prodcuts are shown."
      ]
    },
    {
      "cell_type": "code",
      "metadata": {
        "id": "avk_qh17wwD_"
      },
      "source": [
        "rec_dataJI = []\n",
        "for users in range(1,total_users):\n",
        "  recs = getTopKforUserJI(users,3)[0]\n",
        "  recs.insert(0,users)\n",
        "  rec_data.append(recs)"
      ],
      "execution_count": 135,
      "outputs": []
    },
    {
      "cell_type": "code",
      "metadata": {
        "id": "DkthSyDpwwD_"
      },
      "source": [
        "dfJI = pd.DataFrame(rec_data, columns = ['UserId', 'Recommendation 1','Recommendation 2','Recommendation 3'])"
      ],
      "execution_count": 136,
      "outputs": []
    },
    {
      "cell_type": "code",
      "metadata": {
        "id": "OOVeTYJSwwD_"
      },
      "source": [
        "dfJI.to_csv('./jaccard.csv', sep = ',', index = False)"
      ],
      "execution_count": 137,
      "outputs": []
    },
    {
      "cell_type": "code",
      "metadata": {
        "colab": {
          "base_uri": "https://localhost:8080/",
          "height": 17
        },
        "id": "7LVu9h81wwD_",
        "outputId": "e9fd8c56-4eaf-4ecf-8ea0-d6168b744a68"
      },
      "source": [
        "from google.colab import files\n",
        "files.download('jaccard.csv')"
      ],
      "execution_count": 138,
      "outputs": [
        {
          "output_type": "display_data",
          "data": {
            "application/javascript": [
              "\n",
              "    async function download(id, filename, size) {\n",
              "      if (!google.colab.kernel.accessAllowed) {\n",
              "        return;\n",
              "      }\n",
              "      const div = document.createElement('div');\n",
              "      const label = document.createElement('label');\n",
              "      label.textContent = `Downloading \"${filename}\": `;\n",
              "      div.appendChild(label);\n",
              "      const progress = document.createElement('progress');\n",
              "      progress.max = size;\n",
              "      div.appendChild(progress);\n",
              "      document.body.appendChild(div);\n",
              "\n",
              "      const buffers = [];\n",
              "      let downloaded = 0;\n",
              "\n",
              "      const channel = await google.colab.kernel.comms.open(id);\n",
              "      // Send a message to notify the kernel that we're ready.\n",
              "      channel.send({})\n",
              "\n",
              "      for await (const message of channel.messages) {\n",
              "        // Send a message to notify the kernel that we're ready.\n",
              "        channel.send({})\n",
              "        if (message.buffers) {\n",
              "          for (const buffer of message.buffers) {\n",
              "            buffers.push(buffer);\n",
              "            downloaded += buffer.byteLength;\n",
              "            progress.value = downloaded;\n",
              "          }\n",
              "        }\n",
              "      }\n",
              "      const blob = new Blob(buffers, {type: 'application/binary'});\n",
              "      const a = document.createElement('a');\n",
              "      a.href = window.URL.createObjectURL(blob);\n",
              "      a.download = filename;\n",
              "      div.appendChild(a);\n",
              "      a.click();\n",
              "      div.remove();\n",
              "    }\n",
              "  "
            ],
            "text/plain": [
              "<IPython.core.display.Javascript object>"
            ]
          },
          "metadata": {}
        },
        {
          "output_type": "display_data",
          "data": {
            "application/javascript": [
              "download(\"download_8d0b7d27-7e34-4b7a-a024-8b93ed33e765\", \"jaccard.csv\", 16682)"
            ],
            "text/plain": [
              "<IPython.core.display.Javascript object>"
            ]
          },
          "metadata": {}
        }
      ]
    },
    {
      "cell_type": "markdown",
      "metadata": {
        "id": "4zSoaz_Z2jCa"
      },
      "source": [
        "###Predictions on Validation set-"
      ]
    },
    {
      "cell_type": "code",
      "metadata": {
        "colab": {
          "base_uri": "https://localhost:8080/"
        },
        "id": "qDPMvDwU2jCb",
        "outputId": "c3b98a01-b38c-45d7-c907-87089b0429f3"
      },
      "source": [
        "precision_jaccard = 0\n",
        "recall_jaccard = 0\n",
        "times = 0\n",
        "\n",
        "for index,d in valid_df.iterrows():\n",
        "  ValidUserId = d['UserId']\n",
        "  items = totalItemsPerUser[ValidUserId]\n",
        "  recs = getTopKforUserJI(user,3)[0]\n",
        "  pres = 0\n",
        "  rec = 0\n",
        "  for item in recs:\n",
        "    if item in items:\n",
        "      rec += 1\n",
        "      pres += 1\n",
        "  pres /= len(recs)\n",
        "  rec /= len(items)\n",
        "  precision_jaccard += pres\n",
        "  recall_jaccard += rec\n",
        "  times += 1\n",
        "\n",
        "precision_jaccard /= times\n",
        "recall_jaccard /= times\n",
        "\n",
        "print(\"The precision on the validation dataset is\" , precision_jaccard)\n",
        "print(\"The recall on the validation dataset is\" , recall_jaccard)"
      ],
      "execution_count": 141,
      "outputs": [
        {
          "output_type": "stream",
          "name": "stdout",
          "text": [
            "The precision on the validation dataset is 0.556848701880038\n",
            "The recall on the validation dataset is 0.36793436345808683\n"
          ]
        }
      ]
    },
    {
      "cell_type": "markdown",
      "metadata": {
        "id": "KxG6Nay2kS8E"
      },
      "source": [
        "##Jaccard Index v/s K-Nearest Neighbours\n",
        "**The values for Jaccard Index are -** \n",
        "* The precision on the validation dataset is 0.556848701880038\n",
        "* The recall on the validation dataset is 0.36793436345808683\n",
        "\n",
        "**The values for K-Nearest Neighbours are -** \n",
        "* The precision on the validation dataset is 0.6869591166815853\n",
        "* The recall on the validation dataset is 0.44883894579507744\n",
        "\n",
        "It is evident from the values that the K-nearest Neighbours performs better than the Jaccard Index when testing on the validation dataset"
      ]
    }
  ]
}